{
  "nbformat": 4,
  "nbformat_minor": 0,
  "metadata": {
    "colab": {
      "provenance": [],
      "collapsed_sections": [],
      "authorship_tag": "ABX9TyOFgXxEpF6Aj0CgupOrW99/",
      "include_colab_link": true
    },
    "kernelspec": {
      "name": "python3",
      "display_name": "Python 3"
    },
    "language_info": {
      "name": "python"
    }
  },
  "cells": [
    {
      "cell_type": "markdown",
      "metadata": {
        "id": "view-in-github",
        "colab_type": "text"
      },
      "source": [
        "<a href=\"https://colab.research.google.com/github/tuly01/Data-Science/blob/main/week-2/Hadith_Scrapping.ipynb\" target=\"_parent\"><img src=\"https://colab.research.google.com/assets/colab-badge.svg\" alt=\"Open In Colab\"/></a>"
      ]
    },
    {
      "cell_type": "code",
      "execution_count": 1,
      "metadata": {
        "id": "vsj0vfQUlWLr",
        "colab": {
          "base_uri": "https://localhost:8080/"
        },
        "outputId": "b6917230-a7e7-46b2-ac05-490655a48a93"
      },
      "outputs": [
        {
          "output_type": "stream",
          "name": "stdout",
          "text": [
            "Looking in indexes: https://pypi.org/simple, https://us-python.pkg.dev/colab-wheels/public/simple/\n",
            "Collecting requests-html\n",
            "  Downloading requests_html-0.10.0-py3-none-any.whl (13 kB)\n",
            "Collecting parse\n",
            "  Downloading parse-1.19.0.tar.gz (30 kB)\n",
            "Collecting fake-useragent\n",
            "  Downloading fake-useragent-0.1.11.tar.gz (13 kB)\n",
            "Collecting w3lib\n",
            "  Downloading w3lib-2.0.1-py3-none-any.whl (20 kB)\n",
            "Requirement already satisfied: requests in /usr/local/lib/python3.7/dist-packages (from requests-html) (2.23.0)\n",
            "Collecting pyquery\n",
            "  Downloading pyquery-1.4.3-py3-none-any.whl (22 kB)\n",
            "Requirement already satisfied: bs4 in /usr/local/lib/python3.7/dist-packages (from requests-html) (0.0.1)\n",
            "Collecting pyppeteer>=0.0.14\n",
            "  Downloading pyppeteer-1.0.2-py3-none-any.whl (83 kB)\n",
            "\u001b[K     |████████████████████████████████| 83 kB 2.3 MB/s \n",
            "\u001b[?25hCollecting pyee<9.0.0,>=8.1.0\n",
            "  Downloading pyee-8.2.2-py2.py3-none-any.whl (12 kB)\n",
            "Requirement already satisfied: certifi>=2021 in /usr/local/lib/python3.7/dist-packages (from pyppeteer>=0.0.14->requests-html) (2022.6.15)\n",
            "Requirement already satisfied: tqdm<5.0.0,>=4.42.1 in /usr/local/lib/python3.7/dist-packages (from pyppeteer>=0.0.14->requests-html) (4.64.1)\n",
            "Collecting urllib3<2.0.0,>=1.25.8\n",
            "  Downloading urllib3-1.26.12-py2.py3-none-any.whl (140 kB)\n",
            "\u001b[K     |████████████████████████████████| 140 kB 62.9 MB/s \n",
            "\u001b[?25hRequirement already satisfied: appdirs<2.0.0,>=1.4.3 in /usr/local/lib/python3.7/dist-packages (from pyppeteer>=0.0.14->requests-html) (1.4.4)\n",
            "Collecting websockets<11.0,>=10.0\n",
            "  Downloading websockets-10.3-cp37-cp37m-manylinux_2_5_x86_64.manylinux1_x86_64.manylinux_2_12_x86_64.manylinux2010_x86_64.whl (112 kB)\n",
            "\u001b[K     |████████████████████████████████| 112 kB 71.3 MB/s \n",
            "\u001b[?25hRequirement already satisfied: importlib-metadata>=1.4 in /usr/local/lib/python3.7/dist-packages (from pyppeteer>=0.0.14->requests-html) (4.12.0)\n",
            "Requirement already satisfied: typing-extensions>=3.6.4 in /usr/local/lib/python3.7/dist-packages (from importlib-metadata>=1.4->pyppeteer>=0.0.14->requests-html) (4.1.1)\n",
            "Requirement already satisfied: zipp>=0.5 in /usr/local/lib/python3.7/dist-packages (from importlib-metadata>=1.4->pyppeteer>=0.0.14->requests-html) (3.8.1)\n",
            "Requirement already satisfied: beautifulsoup4 in /usr/local/lib/python3.7/dist-packages (from bs4->requests-html) (4.6.3)\n",
            "Requirement already satisfied: lxml>=2.1 in /usr/local/lib/python3.7/dist-packages (from pyquery->requests-html) (4.9.1)\n",
            "Collecting cssselect>0.7.9\n",
            "  Downloading cssselect-1.1.0-py2.py3-none-any.whl (16 kB)\n",
            "Requirement already satisfied: idna<3,>=2.5 in /usr/local/lib/python3.7/dist-packages (from requests->requests-html) (2.10)\n",
            "Collecting urllib3<2.0.0,>=1.25.8\n",
            "  Downloading urllib3-1.25.11-py2.py3-none-any.whl (127 kB)\n",
            "\u001b[K     |████████████████████████████████| 127 kB 56.4 MB/s \n",
            "\u001b[?25hRequirement already satisfied: chardet<4,>=3.0.2 in /usr/local/lib/python3.7/dist-packages (from requests->requests-html) (3.0.4)\n",
            "Building wheels for collected packages: fake-useragent, parse\n",
            "  Building wheel for fake-useragent (setup.py) ... \u001b[?25l\u001b[?25hdone\n",
            "  Created wheel for fake-useragent: filename=fake_useragent-0.1.11-py3-none-any.whl size=13502 sha256=acef18f5f92dacc5f2c5188d3979ccb9287a77b04afc788620270ccd2bf9e5ed\n",
            "  Stored in directory: /root/.cache/pip/wheels/ed/f7/62/50ab6c9a0b5567267ab76a9daa9d06315704209b2c5d032031\n",
            "  Building wheel for parse (setup.py) ... \u001b[?25l\u001b[?25hdone\n",
            "  Created wheel for parse: filename=parse-1.19.0-py3-none-any.whl size=24591 sha256=c6e8e773d530cac78fdf50df81c36c4a2b2b740b35052fe9a247ad905fab9e7a\n",
            "  Stored in directory: /root/.cache/pip/wheels/9c/aa/cc/f2228050ccb40f22144b073f15a2c84f11204f29fc0dce028e\n",
            "Successfully built fake-useragent parse\n",
            "Installing collected packages: websockets, urllib3, pyee, cssselect, w3lib, pyquery, pyppeteer, parse, fake-useragent, requests-html\n",
            "  Attempting uninstall: urllib3\n",
            "    Found existing installation: urllib3 1.24.3\n",
            "    Uninstalling urllib3-1.24.3:\n",
            "      Successfully uninstalled urllib3-1.24.3\n",
            "Successfully installed cssselect-1.1.0 fake-useragent-0.1.11 parse-1.19.0 pyee-8.2.2 pyppeteer-1.0.2 pyquery-1.4.3 requests-html-0.10.0 urllib3-1.25.11 w3lib-2.0.1 websockets-10.3\n"
          ]
        }
      ],
      "source": [
        "!pip install requests-html"
      ]
    },
    {
      "cell_type": "code",
      "source": [
        "from requests_html import HTMLSession\n",
        "session = HTMLSession()"
      ],
      "metadata": {
        "id": "lAL16LI5lf21"
      },
      "execution_count": 2,
      "outputs": []
    },
    {
      "cell_type": "code",
      "source": [
        "url= \"http://ihadis.com/books/bukhari/chapter/1\"\n",
        "r = session.get(url)\n",
        "print(r.status_code)"
      ],
      "metadata": {
        "colab": {
          "base_uri": "https://localhost:8080/"
        },
        "id": "XchDaPFdzXN0",
        "outputId": "bd22fe8c-767c-4251-b637-24d677ba4c44"
      },
      "execution_count": null,
      "outputs": [
        {
          "output_type": "stream",
          "name": "stdout",
          "text": [
            "200\n"
          ]
        }
      ]
    },
    {
      "cell_type": "code",
      "source": [
        "no_pattern = \"h3.hidden-print\"\n",
        "for i in r.html.find(no_pattern):\n",
        "  print(i.text)"
      ],
      "metadata": {
        "colab": {
          "base_uri": "https://localhost:8080/"
        },
        "id": "Thf3OifI2JoX",
        "outputId": "bb98a9ad-3c8e-4659-86cc-c9f918a18472"
      },
      "execution_count": null,
      "outputs": [
        {
          "output_type": "stream",
          "name": "stdout",
          "text": [
            "১\n",
            "২\n",
            "৩\n",
            "৪\n",
            "৫\n",
            "৬\n",
            "৭\n"
          ]
        }
      ]
    },
    {
      "cell_type": "code",
      "source": [
        "arabic_text_pattern = \"p.hadith-des2\"\n",
        "arabic_text = [i.text for i in r.html.find(arabic_text_pattern)]\n",
        "arabic_text"
      ],
      "metadata": {
        "id": "rL6Bnj0_3ZCE"
      },
      "execution_count": null,
      "outputs": []
    },
    {
      "cell_type": "code",
      "source": [
        "narrator_pattern = \"p.narrated-by\"\n",
        "narrator = [i.text for i in r.html.find(narrator_pattern)]\n",
        "narrator"
      ],
      "metadata": {
        "colab": {
          "base_uri": "https://localhost:8080/"
        },
        "id": "_igKpG314PUD",
        "outputId": "58ba5460-771c-49d6-e9f9-071bc862d46d"
      },
      "execution_count": null,
      "outputs": [
        {
          "output_type": "execute_result",
          "data": {
            "text/plain": [
              "['‘আলক্বামাহ ইব্\\u200cনু ওয়াক্কাস আল-লায়সী (রহঃ) থেকে বর্ণিতঃ',\n",
              " 'উম্মুল মু’মিনীন ‘আয়িশা (রাঃ) থেকে বর্ণিতঃ',\n",
              " 'উম্মুল মু’মিনীন ‘আয়িশা (রাঃ) থেকে বর্ণিতঃ',\n",
              " 'জাবির ইব্\\u200cনু ‘আবদুল্লাহ্\\u200c আনসারী (রাঃ) থেকে বর্ণিতঃ',\n",
              " 'ইব্\\u200cনু আব্বাস (রাঃ) থেকে বর্ণিতঃ',\n",
              " 'ইব্\\u200cনু ‘আব্বাস (রাঃ) থেকে বর্ণিতঃ',\n",
              " '‘আবদুল্লাহ ইব্\\u200cনু ‘আব্বাস (রাঃ) থেকে বর্ণিতঃ']"
            ]
          },
          "metadata": {},
          "execution_count": 38
        }
      ]
    },
    {
      "cell_type": "code",
      "source": [
        "bangla_text_pattern = \".hadith-des\"\n",
        "bangla_text = [i.text for i in r.html.find(bangla_text_pattern)]"
      ],
      "metadata": {
        "id": "xrqc_nCO5eK-"
      },
      "execution_count": null,
      "outputs": []
    },
    {
      "cell_type": "code",
      "source": [
        "status = \".label.validity\"\n",
        "hadith_status = [i.text for i in r.html.find(status)]"
      ],
      "metadata": {
        "id": "LEW2dxUE6JK4"
      },
      "execution_count": null,
      "outputs": []
    },
    {
      "cell_type": "code",
      "source": [
        "def hadith_scrapping(url, book_name, total_chapter):\n",
        "  for i in range(1, total_chapter+1):\n",
        "    chapter_url = url + \"/chapter/\" + str(i)\n",
        "    r = session.get(chapter_url)\n",
        "\n",
        "    no_pattern = \"h3.hidden-print\"\n",
        "    number = [i.text for i in r.html.find(no_pattern)]\n",
        "    arabic_text_pattern = \"p.hadith-des2\"\n",
        "    arabic_text = [i.text for i in r.html.find(arabic_text_pattern)]\n",
        "    narrator_pattern = \"p.narrated-by\"\n",
        "    narrator = [i.text for i in r.html.find(narrator_pattern)]\n",
        "    bangla_text_pattern = \".hadith-des\"\n",
        "    bangla_text = [i.text for i in r.html.find(bangla_text_pattern)]\n",
        "    status = \".label.validity\"\n",
        "    hadith_status = [i.text for i in r.html.find(status)]\n",
        "\n",
        "    print(i, len(number), len(arabic_text), len(narrator), len(bangla_text), len(hadith_status))\n",
        "    \n",
        "    with open(f\"{book_name}/{book_name}_chapter_{i}.txt\", \"w\") as f:\n",
        "      f.write(\"NO., ARABIC TEXT, NARRATOR, BANGLA TEXT, HADITH STATUS\\n\")\n",
        "      for n, a, na, b, hs in zip(number, arabic_text, narrator, bangla_text, hadith_status):\n",
        "        f.write(f\"{n}, {a}, {na}, {b}, {hs}\")\n",
        "        f.write(\"\\n\")\n"
      ],
      "metadata": {
        "id": "OkPFpLgg6xJI"
      },
      "execution_count": 20,
      "outputs": []
    },
    {
      "cell_type": "code",
      "source": [
        "import time\n",
        "book_name = \"mishkatul-masabih\"\n",
        "total_chapter = 11\n",
        "url = f\"http://ihadis.com/books/{book_name}\"\n",
        "start = time.time()\n",
        "hadith_scrapping(url, book_name, total_chapter)\n",
        "end = time.time()\n",
        "print (\"\\nTotal time taken = \", end-start)"
      ],
      "metadata": {
        "colab": {
          "base_uri": "https://localhost:8080/"
        },
        "id": "3n04Ebrjiu9n",
        "outputId": "cef964e1-1e0b-42b4-fd01-709650b5ce2b"
      },
      "execution_count": 22,
      "outputs": [
        {
          "output_type": "stream",
          "name": "stdout",
          "text": [
            "1 197 197 197 197 197\n",
            "2 83 83 83 83 83\n",
            "3 283 283 283 283 283\n",
            "4 959 959 959 959 959\n",
            "5 249 249 249 249 249\n",
            "6 184 184 184 184 184\n",
            "7 153 153 153 153 153\n",
            "8 114 114 114 114 114\n",
            "9 64 64 64 64 64\n",
            "10 218 218 218 218 218\n",
            "11 254 254 254 254 254\n",
            "\n",
            "Total time taken =  20.379298210144043\n"
          ]
        }
      ]
    },
    {
      "cell_type": "code",
      "source": [],
      "metadata": {
        "id": "509yUFhZmyiU"
      },
      "execution_count": null,
      "outputs": []
    }
  ]
}