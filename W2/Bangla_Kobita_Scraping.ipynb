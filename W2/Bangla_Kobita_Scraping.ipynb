{
  "nbformat": 4,
  "nbformat_minor": 0,
  "metadata": {
    "colab": {
      "provenance": [],
      "authorship_tag": "ABX9TyMgyRGcGyRhMcPjZrrwq4hE",
      "include_colab_link": true
    },
    "kernelspec": {
      "name": "python3",
      "display_name": "Python 3"
    },
    "language_info": {
      "name": "python"
    }
  },
  "cells": [
    {
      "cell_type": "markdown",
      "metadata": {
        "id": "view-in-github",
        "colab_type": "text"
      },
      "source": [
        "<a href=\"https://colab.research.google.com/github/tuly01/Data-Science/blob/main/W2/Bangla_Kobita_Scraping.ipynb\" target=\"_parent\"><img src=\"https://colab.research.google.com/assets/colab-badge.svg\" alt=\"Open In Colab\"/></a>"
      ]
    },
    {
      "cell_type": "code",
      "execution_count": null,
      "metadata": {
        "id": "7JApLGkEDbYN"
      },
      "outputs": [],
      "source": [
        "!pip install requests-html"
      ]
    },
    {
      "cell_type": "code",
      "source": [
        "from requests_html import HTMLSession\n",
        "session = HTMLSession()"
      ],
      "metadata": {
        "id": "UrNh5k9eKMLs"
      },
      "execution_count": null,
      "outputs": []
    },
    {
      "cell_type": "code",
      "source": [
        "url = \"https://www.bangla-kobita.com/jibanananda/onibar/\"\n",
        "r = session.get(url)\n",
        "print(r.status_code)"
      ],
      "metadata": {
        "colab": {
          "base_uri": "https://localhost:8080/"
        },
        "id": "IAiHKZlhK8aI",
        "outputId": "a0d1d999-b748-49f8-88ec-2f41c4e2a915"
      },
      "execution_count": null,
      "outputs": [
        {
          "output_type": "stream",
          "name": "stdout",
          "text": [
            "200\n"
          ]
        }
      ]
    },
    {
      "cell_type": "code",
      "source": [
        "kobita_name = r.html.find('.col-md-8 > div:nth-child(5) > h1:nth-child(1) > span:nth-child(1)', first=True)\n",
        "kobita_name.text"
      ],
      "metadata": {
        "colab": {
          "base_uri": "https://localhost:8080/",
          "height": 35
        },
        "id": "zmanH2DoLDLm",
        "outputId": "ea3fb8df-4035-4a21-c74e-5cc94b61daf4"
      },
      "execution_count": null,
      "outputs": [
        {
          "output_type": "execute_result",
          "data": {
            "text/plain": [
              "'অনিবার'"
            ],
            "application/vnd.google.colaboratory.intrinsic+json": {
              "type": "string"
            }
          },
          "metadata": {},
          "execution_count": 19
        }
      ]
    },
    {
      "cell_type": "code",
      "source": [
        "author = r.html.find('.author-name > a:nth-child(1) > span:nth-child(1)', first=True)\n",
        "author.text"
      ],
      "metadata": {
        "id": "Uu4PcS-uLzl5",
        "colab": {
          "base_uri": "https://localhost:8080/",
          "height": 35
        },
        "outputId": "a6776962-bfec-42f1-d698-8fc563aec48d"
      },
      "execution_count": null,
      "outputs": [
        {
          "output_type": "execute_result",
          "data": {
            "text/plain": [
              "'জীবনানন্দ দাশ'"
            ],
            "application/vnd.google.colaboratory.intrinsic+json": {
              "type": "string"
            }
          },
          "metadata": {},
          "execution_count": 20
        }
      ]
    },
    {
      "cell_type": "code",
      "source": [
        "poem = r.html.find('.post-content', first=True)\n",
        "poem.text"
      ],
      "metadata": {
        "colab": {
          "base_uri": "https://localhost:8080/",
          "height": 88
        },
        "id": "n-SXrc-H2hsA",
        "outputId": "3efac52c-0a1c-4e33-81dd-0ef27b4ff109"
      },
      "execution_count": null,
      "outputs": [
        {
          "output_type": "execute_result",
          "data": {
            "text/plain": [
              "\"যেখানে রয়েছে আলো পাহাড় জলের সমবায়-\\nতবুও সেখানে যদি আবিষ্কার করি প্যারাফিন\\nঅনেক মাটির নীচে,- অথবা সেখানে যদি সংগ্রাম-বিলীন\\nঅজস্র অস্পষ্ট মুণ্ড অনুকম্পা হৃদয়ে জাগায়,\\nতাহ'লে প্রভাত এলে মনিয়া পাখিরা পিছে কি করে' বালক\\nভেসে যাবে উজ্জ্বল জলবিম্বের মত হেসে?\\nকি ক'রে বা নাগরিক নিজের নারীকে ভালোবেসে\\nজেনে নেবে হেমন্তের সন্ধ্যার আলোকে\\nগ্যাস আর নক্ষত্রের লিপ্সা থেকে জেগে\\nযারা চায় তাহাদের কাছে তবু স্মিত সমন্বয়?\\nমৃথেদ উপেক্ষিত পীত দেহ- বলো,- ক্ষমাময়।\\nবৃত্তের মতন- এসো,- ঘুরি মোরা বঙ্কিম আবেগে।\""
            ],
            "application/vnd.google.colaboratory.intrinsic+json": {
              "type": "string"
            }
          },
          "metadata": {},
          "execution_count": 21
        }
      ]
    },
    {
      "cell_type": "code",
      "source": [
        "poem_type = r.html.find('.text-left > a:nth-child(1)', first=True)\n",
        "poem_type.text"
      ],
      "metadata": {
        "colab": {
          "base_uri": "https://localhost:8080/",
          "height": 35
        },
        "id": "JX6PvacZ28tb",
        "outputId": "daad2d5b-4fcf-43ae-982d-5a16da90ea0f"
      },
      "execution_count": null,
      "outputs": [
        {
          "output_type": "execute_result",
          "data": {
            "text/plain": [
              "'বিবিধ কবিতা'"
            ],
            "application/vnd.google.colaboratory.intrinsic+json": {
              "type": "string"
            }
          },
          "metadata": {},
          "execution_count": 22
        }
      ]
    },
    {
      "cell_type": "code",
      "source": [],
      "metadata": {
        "id": "eC1tuj1X3gfY"
      },
      "execution_count": null,
      "outputs": []
    }
  ]
}